{
 "cells": [
  {
   "cell_type": "markdown",
   "id": "84b381bb",
   "metadata": {},
   "source": [
    "# Data Science Tools and Ecosystem"
   ]
  },
  {
   "cell_type": "markdown",
   "id": "035d918a",
   "metadata": {},
   "source": [
    "In this notebook, Data Science Tools and Ecosystems are summarized."
   ]
  },
  {
   "cell_type": "markdown",
   "id": "78591ad9",
   "metadata": {},
   "source": [
    "**Objectives.**\n",
    "\n",
    "- List Popular Languages in Data Science\n",
    "- Create a Table of Popular Open Source tools in Data Science\n",
    "- Evaluate Basic Arithmetic Expressions\n",
    "- Use a Combination of Code and Markdown Cells with Varying Word Emphasis and Title Headings"
   ]
  },
  {
   "cell_type": "markdown",
   "id": "ce82872b",
   "metadata": {},
   "source": [
    "Some of the popular languages that Data Scientists use are:\n",
    "\n",
    "1. Python\n",
    "2. R\n",
    "3. Julia\n",
    "4. C++"
   ]
  },
  {
   "cell_type": "markdown",
   "id": "0cd43f20",
   "metadata": {},
   "source": [
    "Some of the commonly used libraries are:\n",
    "\n",
    "1. pytorch\n",
    "2. keras\n",
    "3. ggplot2\n",
    "4. matplotlib"
   ]
  },
  {
   "cell_type": "markdown",
   "id": "14fed812",
   "metadata": {},
   "source": [
    "| Data Science Tools |\n",
    "|:------:|\n",
    "| RStudio |\n",
    "| Jupyter Notebook |\n",
    "| TensorFlow |"
   ]
  },
  {
   "cell_type": "markdown",
   "id": "e80e8301",
   "metadata": {},
   "source": [
    "### Below are a few examples of evaluating arithmetic expressions in Python"
   ]
  },
  {
   "cell_type": "code",
   "execution_count": 1,
   "id": "2c790a71",
   "metadata": {},
   "outputs": [
    {
     "data": {
      "text/plain": [
       "17"
      ]
     },
     "execution_count": 1,
     "metadata": {},
     "output_type": "execute_result"
    }
   ],
   "source": [
    "# This is a simple arithmetic expression to multiply then add integers\n",
    "(3*4)+5"
   ]
  },
  {
   "cell_type": "code",
   "execution_count": 2,
   "id": "620bd7e4",
   "metadata": {},
   "outputs": [
    {
     "data": {
      "text/plain": [
       "3.3333333333333335"
      ]
     },
     "execution_count": 2,
     "metadata": {},
     "output_type": "execute_result"
    }
   ],
   "source": [
    "# This will convert 200 minutes to hours by dividing by 60\n",
    "200/60"
   ]
  },
  {
   "cell_type": "markdown",
   "id": "6ef1ab3e",
   "metadata": {},
   "source": [
    "## Author\n",
    "\n",
    "Jake"
   ]
  }
 ],
 "metadata": {
  "kernelspec": {
   "display_name": "Python 3 (ipykernel)",
   "language": "python",
   "name": "python3"
  },
  "language_info": {
   "codemirror_mode": {
    "name": "ipython",
    "version": 3
   },
   "file_extension": ".py",
   "mimetype": "text/x-python",
   "name": "python",
   "nbconvert_exporter": "python",
   "pygments_lexer": "ipython3",
   "version": "3.11.4"
  }
 },
 "nbformat": 4,
 "nbformat_minor": 5
}
